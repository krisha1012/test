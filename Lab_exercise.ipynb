{
  "metadata": {
    "kernelspec": {
      "name": "python",
      "display_name": "Pyolite",
      "language": "python"
    },
    "language_info": {
      "codemirror_mode": {
        "name": "python",
        "version": 3
      },
      "file_extension": ".py",
      "mimetype": "text/x-python",
      "name": "python",
      "nbconvert_exporter": "python",
      "pygments_lexer": "ipython3",
      "version": "3.8"
    }
  },
  "nbformat_minor": 4,
  "nbformat": 4,
  "cells": [
    {
      "cell_type": "markdown",
      "source": "# My Jupyter Notebook on IBM Watson Studio",
      "metadata": {}
    },
    {
      "cell_type": "markdown",
      "source": "**Krisha Bhanushali** <br>\nCurrently pursuing B.Tech\n",
      "metadata": {}
    },
    {
      "cell_type": "markdown",
      "source": "*I am interested in data science because it adds meaning to unstructured data and transforms it into valuable insights that can be utilised to expand the business and identify trends in the market. Data Science has emerged as a lucrative profession due to the shortage of skilled professionals in the field and the rising demand.*",
      "metadata": {}
    },
    {
      "cell_type": "markdown",
      "source": "### Addition of two numbers :",
      "metadata": {}
    },
    {
      "cell_type": "code",
      "source": "a=6\nb=4\nprint(\"Sum is : \",a+b)",
      "metadata": {
        "trusted": true
      },
      "execution_count": 2,
      "outputs": [
        {
          "name": "stdout",
          "text": "Sum is :  10\n",
          "output_type": "stream"
        }
      ]
    },
    {
      "cell_type": "markdown",
      "source": "Horizontal line : \n\n---\n<br>\nTable : \n\n| Day | Time |\n| --- | --- |\n|Sunday|1.00 p.m.|\n|Monday|2.00 p.m.|\n|Tuesday|3.00 p.m.|\n|Wednesday|4.00 p.m.|\n|Thursday|5.00 p.m.|\n|Friday|6.00 p.m.|\n|Saturday|7.00 p.m.|\n\n<br>\n\nOrdered list : \n1. Apples\n2. Mangoes\n3. Bananas\n\n<br>\n\nUnordered list : \n- Potatoes\n- Tomatoes\n- Onions\n\n<br>\nStrikethrough : <br>\n<strike>Scratch this.</strike>",
      "metadata": {}
    },
    {
      "cell_type": "code",
      "source": "",
      "metadata": {},
      "execution_count": null,
      "outputs": []
    }
  ]
}